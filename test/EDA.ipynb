{
 "cells": [
  {
   "cell_type": "code",
   "execution_count": 1,
   "metadata": {},
   "outputs": [],
   "source": [
    "import pandas as pd\n",
    "import csv\n",
    "import os\n",
    "base = '/opt/ml/input/data/train/'\n",
    "csv_path = os.path.join(base, 'train.csv')\n",
    "img_path = os.path.join(base, 'images')"
   ]
  },
  {
   "cell_type": "code",
   "execution_count": 1,
   "metadata": {},
   "outputs": [
    {
     "name": "stdout",
     "output_type": "stream",
     "text": [
      "18900\n"
     ]
    }
   ],
   "source": [
    "import glob\n",
    "\n",
    "base = '/opt/ml/input/data/train/images/'\n",
    "jpg = glob.glob(base + '**/*.jpg', recursive=True)\n",
    "png = glob.glob(base + '**/*.png', recursive=True)\n",
    "jpeg = glob.glob(base + '**/*.jpeg', recursive=True)\n",
    "\n",
    "print(len(jpg) + len(png) + len(jpeg))"
   ]
  },
  {
   "cell_type": "code",
   "execution_count": 3,
   "metadata": {},
   "outputs": [
    {
     "name": "stdout",
     "output_type": "stream",
     "text": [
      "['001108', 'female', 'Asian', '23']\n",
      "['001108', 'female', 'Asian', '23']\n",
      "['001108', 'female', 'Asian', '23']\n",
      "['001108', 'female', 'Asian', '23']\n",
      "['001108', 'female', 'Asian', '23']\n",
      "['001108', 'female', 'Asian', '23']\n",
      "['001108', 'female', 'Asian', '23']\n",
      "['001817', 'male', 'Asian', '23']\n",
      "['001817', 'male', 'Asian', '23']\n",
      "['001817', 'male', 'Asian', '23']\n",
      "['001817', 'male', 'Asian', '23']\n",
      "['001817', 'male', 'Asian', '23']\n"
     ]
    }
   ],
   "source": [
    "src = base = '/opt/ml/input/data/train/images/'\n",
    "\n",
    "for idx, img in enumerate(glob.glob(src + '**/*.*', recursive=True)):\n",
    "    dir_name, ext = os.path.splitext(img)\n",
    "    is_masked = dir_name.split('/')[-1]\n",
    "    etc = dir_name.split('/')[-2].split('_')\n",
    "    features = [is_masked[0], etc[1], int(etc[3])]\n",
    "    print(etc)\n",
    "\n",
    "    if idx > 10 : break"
   ]
  },
  {
   "cell_type": "code",
   "execution_count": 2,
   "metadata": {},
   "outputs": [
    {
     "name": "stdout",
     "output_type": "stream",
     "text": [
      "12600\n"
     ]
    }
   ],
   "source": [
    "base = '/opt/ml/input/'\n",
    "src = os.path.join(base, 'data/eval')\n",
    "\n",
    "tot = len(glob.glob(src + '/images/' + '**/*.*', recursive=True))\n",
    "# for idx, img in enumerate(glob.glob(src + '/images/' + '**/*.*', recursive=True)):\n",
    "#     dir_name, ext = os.path.splitext(img)\n",
    "#     # print(f'{dir_name.split(\"/\")[-1]}.{ext}')\n",
    "print(tot)"
   ]
  },
  {
   "cell_type": "code",
   "execution_count": 93,
   "metadata": {},
   "outputs": [
    {
     "data": {
      "text/plain": "18900"
     },
     "execution_count": 93,
     "metadata": {},
     "output_type": "execute_result"
    }
   ],
   "source": []
  },
  {
   "cell_type": "code",
   "execution_count": 5,
   "metadata": {},
   "outputs": [
    {
     "name": "stdout",
     "output_type": "stream",
     "text": [
      "<class 'str'>\n"
     ]
    }
   ],
   "source": [
    "from PIL import Image\n",
    "%matplotlib inline\n",
    "from matplotlib.pyplot import imshow\n",
    "import numpy as np\n",
    "\n",
    "all_img = glob.glob(src + '**/*.*', recursive=True)\n",
    "\n",
    "print(type(all_img[0]))\n",
    "img = Image.open(all_img[0])\n",
    "# imshow(np.asarray(img))"
   ]
  },
  {
   "cell_type": "code",
   "execution_count": 92,
   "metadata": {},
   "outputs": [],
   "source": [
    "from torchvision.io import read_image\n",
    "from torchvision import transforms\n",
    "\n",
    "def get_transforms_img(im):\n",
    "    # im = torchvision.transforms.Resize((224,224))(im)\n",
    "    # im = torchvision.transforms.RandomHorizontalFlip()(im)\n",
    "    # im = torchvision.transforms.CenterCrop((150,150))(im)\n",
    "\n",
    "    im = transforms.Compose([\n",
    "                        transforms.CenterCrop((300,300)),\n",
    "                        transforms.Resize((32,32)),\n",
    "                        # transforms.RandomHorizontalFlip(),\n",
    "    ])(im)\n",
    "    \n",
    "    return im\n",
    "i = 0"
   ]
  },
  {
   "cell_type": "code",
   "execution_count": 101,
   "metadata": {},
   "outputs": [
    {
     "name": "stdout",
     "output_type": "stream",
     "text": [
      "torch.Size([3, 512, 384])\n"
     ]
    },
    {
     "data": {
      "text/plain": "<matplotlib.image.AxesImage at 0x7fd6779b0dc0>"
     },
     "execution_count": 101,
     "metadata": {},
     "output_type": "execute_result"
    },
    {
     "data": {
      "image/png": "[encoded data removed]",
      "text/plain": "<Figure size 432x288 with 1 Axes>"
     },
     "metadata": {
      "needs_background": "light"
     },
     "output_type": "display_data"
    }
   ],
   "source": [
    "i += 1\n",
    "img = read_image(all_img[i])\n",
    "print(img.shape)\n",
    "img = get_transforms_img(img)\n",
    "imshow(np.asarray(img).transpose((1,2,0)))"
   ]
  },
  {
   "cell_type": "code",
   "execution_count": 8,
   "metadata": {},
   "outputs": [
    {
     "data": {
      "text/html": "<div>\n<style scoped>\n    .dataframe tbody tr th:only-of-type {\n        vertical-align: middle;\n    }\n\n    .dataframe tbody tr th {\n        vertical-align: top;\n    }\n\n    .dataframe thead th {\n        text-align: right;\n    }\n</style>\n<table border=\"1\" class=\"dataframe\">\n  <thead>\n    <tr style=\"text-align: right;\">\n      <th></th>\n      <th>id</th>\n      <th>gender</th>\n      <th>race</th>\n      <th>age</th>\n      <th>path</th>\n    </tr>\n  </thead>\n  <tbody>\n    <tr>\n      <th>0</th>\n      <td>000001</td>\n      <td>female</td>\n      <td>Asian</td>\n      <td>45</td>\n      <td>000001_female_Asian_45</td>\n    </tr>\n    <tr>\n      <th>1</th>\n      <td>000002</td>\n      <td>female</td>\n      <td>Asian</td>\n      <td>52</td>\n      <td>000002_female_Asian_52</td>\n    </tr>\n    <tr>\n      <th>2</th>\n      <td>000004</td>\n      <td>male</td>\n      <td>Asian</td>\n      <td>54</td>\n      <td>000004_male_Asian_54</td>\n    </tr>\n    <tr>\n      <th>3</th>\n      <td>000005</td>\n      <td>female</td>\n      <td>Asian</td>\n      <td>58</td>\n      <td>000005_female_Asian_58</td>\n    </tr>\n    <tr>\n      <th>4</th>\n      <td>000006</td>\n      <td>female</td>\n      <td>Asian</td>\n      <td>59</td>\n      <td>000006_female_Asian_59</td>\n    </tr>\n    <tr>\n      <th>...</th>\n      <td>...</td>\n      <td>...</td>\n      <td>...</td>\n      <td>...</td>\n      <td>...</td>\n    </tr>\n    <tr>\n      <th>2695</th>\n      <td>006954</td>\n      <td>male</td>\n      <td>Asian</td>\n      <td>19</td>\n      <td>006954_male_Asian_19</td>\n    </tr>\n    <tr>\n      <th>2696</th>\n      <td>006955</td>\n      <td>male</td>\n      <td>Asian</td>\n      <td>19</td>\n      <td>006955_male_Asian_19</td>\n    </tr>\n    <tr>\n      <th>2697</th>\n      <td>006956</td>\n      <td>male</td>\n      <td>Asian</td>\n      <td>19</td>\n      <td>006956_male_Asian_19</td>\n    </tr>\n    <tr>\n      <th>2698</th>\n      <td>006957</td>\n      <td>male</td>\n      <td>Asian</td>\n      <td>20</td>\n      <td>006957_male_Asian_20</td>\n    </tr>\n    <tr>\n      <th>2699</th>\n      <td>006959</td>\n      <td>male</td>\n      <td>Asian</td>\n      <td>19</td>\n      <td>006959_male_Asian_19</td>\n    </tr>\n  </tbody>\n</table>\n<p>2700 rows × 5 columns</p>\n</div>",
      "text/plain": "          id  gender   race  age                    path\n0     000001  female  Asian   45  000001_female_Asian_45\n1     000002  female  Asian   52  000002_female_Asian_52\n2     000004    male  Asian   54    000004_male_Asian_54\n3     000005  female  Asian   58  000005_female_Asian_58\n4     000006  female  Asian   59  000006_female_Asian_59\n...      ...     ...    ...  ...                     ...\n2695  006954    male  Asian   19    006954_male_Asian_19\n2696  006955    male  Asian   19    006955_male_Asian_19\n2697  006956    male  Asian   19    006956_male_Asian_19\n2698  006957    male  Asian   20    006957_male_Asian_20\n2699  006959    male  Asian   19    006959_male_Asian_19\n\n[2700 rows x 5 columns]"
     },
     "execution_count": 8,
     "metadata": {},
     "output_type": "execute_result"
    }
   ],
   "source": [
    "dataframe = pd.read_csv(csv_path)\n",
    "dataframe\n"
   ]
  },
  {
   "cell_type": "code",
   "execution_count": 11,
   "metadata": {},
   "outputs": [],
   "source": [
    "list_dir = os.listdir(img_path)\n",
    "real_dir = []\n",
    "for d in list_dir:\n",
    "    if d.find('._')==-1:\n",
    "        real_dir.append(d)"
   ]
  },
  {
   "cell_type": "code",
   "execution_count": 30,
   "metadata": {},
   "outputs": [
    {
     "data": {
      "text/html": "<div>\n<style scoped>\n    .dataframe tbody tr th:only-of-type {\n        vertical-align: middle;\n    }\n\n    .dataframe tbody tr th {\n        vertical-align: top;\n    }\n\n    .dataframe thead th {\n        text-align: right;\n    }\n</style>\n<table border=\"1\" class=\"dataframe\">\n  <thead>\n    <tr style=\"text-align: right;\">\n      <th></th>\n      <th>id</th>\n      <th>gender</th>\n    </tr>\n  </thead>\n  <tbody>\n    <tr>\n      <th>0</th>\n      <td>000001</td>\n      <td>female</td>\n    </tr>\n    <tr>\n      <th>1</th>\n      <td>000002</td>\n      <td>female</td>\n    </tr>\n    <tr>\n      <th>2</th>\n      <td>000004</td>\n      <td>male</td>\n    </tr>\n    <tr>\n      <th>3</th>\n      <td>000005</td>\n      <td>female</td>\n    </tr>\n    <tr>\n      <th>4</th>\n      <td>000006</td>\n      <td>female</td>\n    </tr>\n    <tr>\n      <th>...</th>\n      <td>...</td>\n      <td>...</td>\n    </tr>\n    <tr>\n      <th>2695</th>\n      <td>006954</td>\n      <td>male</td>\n    </tr>\n    <tr>\n      <th>2696</th>\n      <td>006955</td>\n      <td>male</td>\n    </tr>\n    <tr>\n      <th>2697</th>\n      <td>006956</td>\n      <td>male</td>\n    </tr>\n    <tr>\n      <th>2698</th>\n      <td>006957</td>\n      <td>male</td>\n    </tr>\n    <tr>\n      <th>2699</th>\n      <td>006959</td>\n      <td>male</td>\n    </tr>\n  </tbody>\n</table>\n<p>2700 rows × 2 columns</p>\n</div>",
      "text/plain": "          id  gender\n0     000001  female\n1     000002  female\n2     000004    male\n3     000005  female\n4     000006  female\n...      ...     ...\n2695  006954    male\n2696  006955    male\n2697  006956    male\n2698  006957    male\n2699  006959    male\n\n[2700 rows x 2 columns]"
     },
     "execution_count": 30,
     "metadata": {},
     "output_type": "execute_result"
    }
   ],
   "source": [
    "dataframe[['id', 'gender']]"
   ]
  },
  {
   "cell_type": "code",
   "execution_count": null,
   "metadata": {},
   "outputs": [],
   "source": []
  },
  {
   "cell_type": "code",
   "execution_count": 28,
   "metadata": {},
   "outputs": [
    {
     "ename": "ValueError",
     "evalue": "Unable to parse string \"000600-1\" at position 207",
     "output_type": "error",
     "traceback": [
      "\u001b[0;31m---------------------------------------------------------------------------\u001b[0m",
      "\u001b[0;31mValueError\u001b[0m                                Traceback (most recent call last)",
      "\u001b[0;32mpandas/_libs/lib.pyx\u001b[0m in \u001b[0;36mpandas._libs.lib.maybe_convert_numeric\u001b[0;34m()\u001b[0m\n",
      "\u001b[0;31mValueError\u001b[0m: Unable to parse string \"000600-1\"",
      "\nDuring handling of the above exception, another exception occurred:\n",
      "\u001b[0;31mValueError\u001b[0m                                Traceback (most recent call last)",
      "\u001b[0;32m<ipython-input-28-d70e73952ae3>\u001b[0m in \u001b[0;36m<module>\u001b[0;34m\u001b[0m\n\u001b[1;32m      1\u001b[0m \u001b[0mlen\u001b[0m\u001b[0;34m(\u001b[0m\u001b[0mreal_dir\u001b[0m\u001b[0;34m)\u001b[0m\u001b[0;34m\u001b[0m\u001b[0;34m\u001b[0m\u001b[0m\n\u001b[0;32m----> 2\u001b[0;31m \u001b[0mpd\u001b[0m\u001b[0;34m.\u001b[0m\u001b[0mto_numeric\u001b[0m\u001b[0;34m(\u001b[0m\u001b[0mdataframe\u001b[0m\u001b[0;34m[\u001b[0m\u001b[0;34m'id'\u001b[0m\u001b[0;34m]\u001b[0m\u001b[0;34m)\u001b[0m\u001b[0;34m.\u001b[0m\u001b[0mvalues\u001b[0m\u001b[0;34m\u001b[0m\u001b[0;34m\u001b[0m\u001b[0m\n\u001b[0m",
      "\u001b[0;32m/opt/conda/lib/python3.8/site-packages/pandas/core/tools/numeric.py\u001b[0m in \u001b[0;36mto_numeric\u001b[0;34m(arg, errors, downcast)\u001b[0m\n\u001b[1;32m    150\u001b[0m         \u001b[0mcoerce_numeric\u001b[0m \u001b[0;34m=\u001b[0m \u001b[0merrors\u001b[0m \u001b[0;32mnot\u001b[0m \u001b[0;32min\u001b[0m \u001b[0;34m(\u001b[0m\u001b[0;34m\"ignore\"\u001b[0m\u001b[0;34m,\u001b[0m \u001b[0;34m\"raise\"\u001b[0m\u001b[0;34m)\u001b[0m\u001b[0;34m\u001b[0m\u001b[0;34m\u001b[0m\u001b[0m\n\u001b[1;32m    151\u001b[0m         \u001b[0;32mtry\u001b[0m\u001b[0;34m:\u001b[0m\u001b[0;34m\u001b[0m\u001b[0;34m\u001b[0m\u001b[0m\n\u001b[0;32m--> 152\u001b[0;31m             values = lib.maybe_convert_numeric(\n\u001b[0m\u001b[1;32m    153\u001b[0m                 \u001b[0mvalues\u001b[0m\u001b[0;34m,\u001b[0m \u001b[0mset\u001b[0m\u001b[0;34m(\u001b[0m\u001b[0;34m)\u001b[0m\u001b[0;34m,\u001b[0m \u001b[0mcoerce_numeric\u001b[0m\u001b[0;34m=\u001b[0m\u001b[0mcoerce_numeric\u001b[0m\u001b[0;34m\u001b[0m\u001b[0;34m\u001b[0m\u001b[0m\n\u001b[1;32m    154\u001b[0m             )\n",
      "\u001b[0;32mpandas/_libs/lib.pyx\u001b[0m in \u001b[0;36mpandas._libs.lib.maybe_convert_numeric\u001b[0;34m()\u001b[0m\n",
      "\u001b[0;31mValueError\u001b[0m: Unable to parse string \"000600-1\" at position 207"
     ]
    }
   ],
   "source": [
    "len(real_dir)\n",
    "pd.to_numeric(dataframe['id']).values"
   ]
  },
  {
   "cell_type": "code",
   "execution_count": 19,
   "metadata": {},
   "outputs": [
    {
     "ename": "TypeError",
     "evalue": "can't convert np.ndarray of type numpy.object_. The only supported types are: float64, float32, float16, complex64, complex128, int64, int32, int16, int8, uint8, and bool.",
     "output_type": "error",
     "traceback": [
      "\u001b[0;31m---------------------------------------------------------------------------\u001b[0m",
      "\u001b[0;31mTypeError\u001b[0m                                 Traceback (most recent call last)",
      "\u001b[0;32m<ipython-input-19-32a4dee8dfc5>\u001b[0m in \u001b[0;36m<module>\u001b[0;34m\u001b[0m\n\u001b[1;32m      1\u001b[0m \u001b[0;32mimport\u001b[0m \u001b[0mtorch\u001b[0m\u001b[0;34m\u001b[0m\u001b[0;34m\u001b[0m\u001b[0m\n\u001b[0;32m----> 2\u001b[0;31m \u001b[0mtorch\u001b[0m\u001b[0;34m.\u001b[0m\u001b[0mtensor\u001b[0m\u001b[0;34m(\u001b[0m\u001b[0mdataframe\u001b[0m\u001b[0;34m[\u001b[0m\u001b[0;34m'id'\u001b[0m\u001b[0;34m]\u001b[0m\u001b[0;34m.\u001b[0m\u001b[0mvalues\u001b[0m\u001b[0;34m,\u001b[0m \u001b[0mdtype\u001b[0m\u001b[0;34m=\u001b[0m\u001b[0mtorch\u001b[0m\u001b[0;34m.\u001b[0m\u001b[0mfloat32\u001b[0m\u001b[0;34m)\u001b[0m\u001b[0;34m\u001b[0m\u001b[0;34m\u001b[0m\u001b[0m\n\u001b[0m",
      "\u001b[0;31mTypeError\u001b[0m: can't convert np.ndarray of type numpy.object_. The only supported types are: float64, float32, float16, complex64, complex128, int64, int32, int16, int8, uint8, and bool."
     ]
    }
   ],
   "source": [
    "import torch\n",
    "torch.tensor(dataframe['id'].values, dtype=torch.float32)"
   ]
  },
  {
   "cell_type": "code",
   "execution_count": null,
   "metadata": {},
   "outputs": [],
   "source": []
  }
 ],
 "metadata": {
  "kernelspec": {
   "display_name": "Python 3.8.5 64-bit ('base': conda)",
   "name": "python385jvsc74a57bd098b0a9b7b4eaaa670588a142fd0a9b87eaafe866f1db4228be72b4211d12040f"
  },
  "language_info": {
   "name": "python",
   "version": ""
  },
  "orig_nbformat": 2
 },
 "nbformat": 4,
 "nbformat_minor": 2
}