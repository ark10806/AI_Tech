{
 "cells": [
  {
   "cell_type": "code",
   "execution_count": 5,
   "metadata": {},
   "outputs": [],
   "source": [
    "import argparse\n",
    "import torch\n",
    "import os\n",
    "import numpy as np\n",
    "\n",
    "from model.wide_res_net import WideResNet\n",
    "from model.smooth_cross_entropy import smooth_crossentropy\n",
    "from data.cifar import Cifar\n",
    "from utility.log import Log\n",
    "from utility.initialize import initialize\n",
    "from utility.step_lr import StepLR\n",
    "import sys; sys.path.append(\"..\")\n",
    "from sam import SAM\n",
    "from utility.options import Options\n",
    "from utility import dataset\n",
    "\n",
    "import csv\n",
    "from PIL import Image\n",
    "%matplotlib inline\n",
    "from matplotlib.pyplot import imshow\n",
    "import matplotlib.pyplot as plt\n",
    "import numpy as np\n",
    "\n",
    "# from IPython.core.interactiveshell import InteractiveShell\n",
    "# InteractiveShell.ast_node_interactivity = \"all\"\n",
    "\n",
    "\n",
    "csv_path = '/opt/ml/input/new_test/info.csv'\n",
    "csv_path = './test.csv'\n",
    "##"
   ]
  },
  {
   "cell_type": "code",
   "execution_count": 6,
   "metadata": {},
   "outputs": [
    {
     "data": {
      "text/plain": [
       "'/opt/ml/code/AI_Tech/sam/example'"
      ]
     },
     "execution_count": 6,
     "metadata": {},
     "output_type": "execute_result"
    }
   ],
   "source": [
    "import os\n",
    "os.getcwd()"
   ]
  },
  {
   "cell_type": "code",
   "execution_count": 7,
   "metadata": {},
   "outputs": [],
   "source": [
    "from torchvision.io import read_image\n",
    "from torchvision import transforms\n",
    "\n",
    "def get_transforms_img(im):\n",
    "    # im = torchvision.transforms.Resize((224,224))(im)\n",
    "    # im = torchvision.transforms.RandomHorizontalFlip()(im)\n",
    "    # im = torchvision.transforms.CenterCrop((150,150))(im)\n",
    "\n",
    "    im = transforms.Compose([\n",
    "                        transforms.CenterCrop((300,300)),\n",
    "                        transforms.Resize((32,32)),\n",
    "                        # transforms.RandomHorizontalFlip(),\n",
    "    ])(im)\n",
    "    \n",
    "    return im\n",
    "i = 0"
   ]
  },
  {
   "cell_type": "code",
   "execution_count": 8,
   "metadata": {},
   "outputs": [
    {
     "name": "stdout",
     "output_type": "stream",
     "text": [
      "/opt/ml/code/AI_Tech/sam/example/weights/2_12_9296\n"
     ]
    },
    {
     "ename": "ValueError",
     "evalue": "num must be 1 <= num <= 40, not 41",
     "output_type": "error",
     "traceback": [
      "\u001b[0;31m---------------------------------------------------------------------------\u001b[0m",
      "\u001b[0;31mValueError\u001b[0m                                Traceback (most recent call last)",
      "\u001b[0;32m<ipython-input-8-7852193371a5>\u001b[0m in \u001b[0;36m<module>\u001b[0;34m\u001b[0m\n\u001b[1;32m     49\u001b[0m \u001b[0;34m\u001b[0m\u001b[0m\n\u001b[1;32m     50\u001b[0m         \u001b[0mpan\u001b[0m \u001b[0;34m=\u001b[0m\u001b[0mnp\u001b[0m\u001b[0;34m.\u001b[0m\u001b[0mhstack\u001b[0m\u001b[0;34m(\u001b[0m\u001b[0;34m[\u001b[0m\u001b[0mtr\u001b[0m\u001b[0;34m,\u001b[0m \u001b[0mrl\u001b[0m\u001b[0;34m]\u001b[0m\u001b[0;34m)\u001b[0m\u001b[0;34m\u001b[0m\u001b[0;34m\u001b[0m\u001b[0m\n\u001b[0;32m---> 51\u001b[0;31m         \u001b[0mfig\u001b[0m\u001b[0;34m.\u001b[0m\u001b[0madd_subplot\u001b[0m\u001b[0;34m(\u001b[0m\u001b[0mrows\u001b[0m\u001b[0;34m,\u001b[0m \u001b[0mcols\u001b[0m\u001b[0;34m,\u001b[0m \u001b[0;36m2\u001b[0m\u001b[0;34m*\u001b[0m\u001b[0mi\u001b[0m\u001b[0;34m+\u001b[0m\u001b[0;36m1\u001b[0m\u001b[0;34m)\u001b[0m\u001b[0;34m.\u001b[0m\u001b[0mimshow\u001b[0m\u001b[0;34m(\u001b[0m\u001b[0mtr\u001b[0m\u001b[0;34m)\u001b[0m\u001b[0;34m\u001b[0m\u001b[0;34m\u001b[0m\u001b[0m\n\u001b[0m\u001b[1;32m     52\u001b[0m         \u001b[0mfig\u001b[0m\u001b[0;34m.\u001b[0m\u001b[0madd_subplot\u001b[0m\u001b[0;34m(\u001b[0m\u001b[0mrows\u001b[0m\u001b[0;34m,\u001b[0m \u001b[0mcols\u001b[0m\u001b[0;34m,\u001b[0m \u001b[0;36m2\u001b[0m\u001b[0;34m*\u001b[0m\u001b[0mi\u001b[0m\u001b[0;34m+\u001b[0m\u001b[0;36m2\u001b[0m\u001b[0;34m)\u001b[0m\u001b[0;34m.\u001b[0m\u001b[0mimshow\u001b[0m\u001b[0;34m(\u001b[0m\u001b[0mrl\u001b[0m\u001b[0;34m)\u001b[0m\u001b[0;34m\u001b[0m\u001b[0;34m\u001b[0m\u001b[0m\n\u001b[1;32m     53\u001b[0m         \u001b[0;32mif\u001b[0m \u001b[0mi\u001b[0m\u001b[0;34m==\u001b[0m\u001b[0mrows\u001b[0m\u001b[0;34m:\u001b[0m\u001b[0;34m\u001b[0m\u001b[0;34m\u001b[0m\u001b[0m\n",
      "\u001b[0;32m/opt/conda/lib/python3.8/site-packages/matplotlib/figure.py\u001b[0m in \u001b[0;36madd_subplot\u001b[0;34m(self, *args, **kwargs)\u001b[0m\n\u001b[1;32m   1417\u001b[0m                     \u001b[0mself\u001b[0m\u001b[0;34m.\u001b[0m\u001b[0m_axstack\u001b[0m\u001b[0;34m.\u001b[0m\u001b[0mremove\u001b[0m\u001b[0;34m(\u001b[0m\u001b[0max\u001b[0m\u001b[0;34m)\u001b[0m\u001b[0;34m\u001b[0m\u001b[0;34m\u001b[0m\u001b[0m\n\u001b[1;32m   1418\u001b[0m \u001b[0;34m\u001b[0m\u001b[0m\n\u001b[0;32m-> 1419\u001b[0;31m             \u001b[0ma\u001b[0m \u001b[0;34m=\u001b[0m \u001b[0msubplot_class_factory\u001b[0m\u001b[0;34m(\u001b[0m\u001b[0mprojection_class\u001b[0m\u001b[0;34m)\u001b[0m\u001b[0;34m(\u001b[0m\u001b[0mself\u001b[0m\u001b[0;34m,\u001b[0m \u001b[0;34m*\u001b[0m\u001b[0margs\u001b[0m\u001b[0;34m,\u001b[0m \u001b[0;34m**\u001b[0m\u001b[0mkwargs\u001b[0m\u001b[0;34m)\u001b[0m\u001b[0;34m\u001b[0m\u001b[0;34m\u001b[0m\u001b[0m\n\u001b[0m\u001b[1;32m   1420\u001b[0m \u001b[0;34m\u001b[0m\u001b[0m\n\u001b[1;32m   1421\u001b[0m         \u001b[0;32mreturn\u001b[0m \u001b[0mself\u001b[0m\u001b[0;34m.\u001b[0m\u001b[0m_add_axes_internal\u001b[0m\u001b[0;34m(\u001b[0m\u001b[0mkey\u001b[0m\u001b[0;34m,\u001b[0m \u001b[0ma\u001b[0m\u001b[0;34m)\u001b[0m\u001b[0;34m\u001b[0m\u001b[0;34m\u001b[0m\u001b[0m\n",
      "\u001b[0;32m/opt/conda/lib/python3.8/site-packages/matplotlib/axes/_subplots.py\u001b[0m in \u001b[0;36m__init__\u001b[0;34m(self, fig, *args, **kwargs)\u001b[0m\n\u001b[1;32m     63\u001b[0m             \u001b[0;32melse\u001b[0m\u001b[0;34m:\u001b[0m\u001b[0;34m\u001b[0m\u001b[0;34m\u001b[0m\u001b[0m\n\u001b[1;32m     64\u001b[0m                 \u001b[0;32mif\u001b[0m \u001b[0mnum\u001b[0m \u001b[0;34m<\u001b[0m \u001b[0;36m1\u001b[0m \u001b[0;32mor\u001b[0m \u001b[0mnum\u001b[0m \u001b[0;34m>\u001b[0m \u001b[0mrows\u001b[0m\u001b[0;34m*\u001b[0m\u001b[0mcols\u001b[0m\u001b[0;34m:\u001b[0m\u001b[0;34m\u001b[0m\u001b[0;34m\u001b[0m\u001b[0m\n\u001b[0;32m---> 65\u001b[0;31m                     raise ValueError(\n\u001b[0m\u001b[1;32m     66\u001b[0m                         f\"num must be 1 <= num <= {rows*cols}, not {num}\")\n\u001b[1;32m     67\u001b[0m                 self._subplotspec = GridSpec(\n",
      "\u001b[0;31mValueError\u001b[0m: num must be 1 <= num <= 40, not 41"
     ]
    },
    {
     "data": {
      "image/png": "[encoded data removed]",
      "text/plain": [
       "<Figure size 432x288 with 40 Axes>"
      ]
     },
     "metadata": {
      "needs_background": "light"
     },
     "output_type": "display_data"
    }
   ],
   "source": [
    "# opt = Options().parse()\n",
    "\n",
    "# initialize(opt, seed=42)\n",
    "device = torch.device(\"cuda:0\" if torch.cuda.is_available() else \"cpu\")\n",
    "\n",
    "# dataset = Cifar(opt.batch_size, opt.threads)\n",
    "dataset = dataset.load_test_data_humpyter()\n",
    "log = Log(log_each=10)\n",
    "model = WideResNet(16, 16, 8, 0.0, in_channels=3, labels=18).to(device)\n",
    "ckpt_path = os.path.join('/opt/ml/code/AI_Tech/sam/example/weights', '2_12_9296')\n",
    "print(ckpt_path)\n",
    "ckpt = torch.load(ckpt_path + '.pth')\n",
    "model.load_state_dict(ckpt['state_dict'])\n",
    "\n",
    "base_optimizer = torch.optim.SGD\n",
    "optimizer = SAM(model.parameters(), base_optimizer, rho=0.5, adaptive=True, lr=0.1, momentum=0.9, weight_decay=0.0005)\n",
    "scheduler = StepLR(optimizer, 0.1, 100)\n",
    "\n",
    "# for epoch in range(opt.epochs):\n",
    "\n",
    "model.eval()\n",
    "# log.eval(len_dataset=len(dataset))\n",
    "base = '/opt/ml/input/new_test/1/'\n",
    "\n",
    "fig = plt.figure()\n",
    "num = 10\n",
    "rows = 20\n",
    "cols = 2\n",
    "\n",
    "with torch.no_grad():\n",
    "    for i, batch in enumerate(dataset):\n",
    "        inputs, targets = (b.to(device) for b in batch)\n",
    "        # print(f'target: {targets}')\n",
    "        fname, _ = dataset.dataset.samples[i]\n",
    "        fname = fname.split(\"/\")[-1]\n",
    "        # print(fname)\n",
    "        # print(inputs.shape)\n",
    "        hi = inputs.cpu()\n",
    "        tr = np.asarray(hi[0]).transpose((1,2,0))\n",
    "        # print(tr.shape)\n",
    "        # imshow(np.asarray(hi[0]).transpose((1,2,0)))\n",
    "\n",
    "        img = read_image(base + fname)\n",
    "        # print(img.shape)\n",
    "        img  = get_transforms_img(img)\n",
    "        rl = np.asarray(img).transpose((1,2,0))\n",
    "        # print(rl.shape)\n",
    "        # imshow(np.asarray(img).transpose((1,2,0)))\n",
    "\n",
    "        pan =np.hstack([tr, rl])\n",
    "        fig.add_subplot(rows, cols, 2*i+1).imshow(tr)\n",
    "        fig.add_subplot(rows, cols, 2*i+2).imshow(rl)\n",
    "        if i==rows:\n",
    "            plt.show()\n",
    "            break\n",
    "        \n",
    "\n",
    "        predictions = model(inputs)\n",
    "        pp = int(torch.argmax(predictions,1))\n",
    "        # print(targets.shape, pp.shape, end='')\n",
    "        # print(f'[i:{i}]\\t{fname.split(\"/\")[-1]},{int(pp):>3}', end='\\t')\n",
    "        # print(f'[{(i+1)/12600*100: .2f}{i+1 :>7} / 12600]')\n",
    "        # loss = smooth_crossentropy(predictions, targets)\n",
    "        # correct = torch.argmax(predictions, 1) == targets\n",
    "        # print(torch.argmax(predictions, 1))\n",
    "        # log(model, loss.cpu(), correct.cpu())\n"
   ]
  },
  {
   "cell_type": "code",
   "execution_count": 66,
   "metadata": {},
   "outputs": [
    {
     "ename": "AttributeError",
     "evalue": "module 'utility.dataset' has no attribute 'dataset'",
     "output_type": "error",
     "traceback": [
      "\u001b[0;31m---------------------------------------------------------------------------\u001b[0m",
      "\u001b[0;31mAttributeError\u001b[0m                            Traceback (most recent call last)",
      "\u001b[0;32m<ipython-input-66-4ca6f46158c7>\u001b[0m in \u001b[0;36m<module>\u001b[0;34m\u001b[0m\n\u001b[1;32m      1\u001b[0m \u001b[0minputs\u001b[0m\u001b[0;34m,\u001b[0m \u001b[0mtargets\u001b[0m \u001b[0;34m=\u001b[0m \u001b[0;34m(\u001b[0m\u001b[0mb\u001b[0m\u001b[0;34m.\u001b[0m\u001b[0mto\u001b[0m\u001b[0;34m(\u001b[0m\u001b[0mdevice\u001b[0m\u001b[0;34m)\u001b[0m \u001b[0;32mfor\u001b[0m \u001b[0mb\u001b[0m \u001b[0;32min\u001b[0m \u001b[0mbatch\u001b[0m\u001b[0;34m)\u001b[0m\u001b[0;34m\u001b[0m\u001b[0;34m\u001b[0m\u001b[0m\n\u001b[1;32m      2\u001b[0m \u001b[0;31m# print(f'target: {targets}')\u001b[0m\u001b[0;34m\u001b[0m\u001b[0;34m\u001b[0m\u001b[0;34m\u001b[0m\u001b[0m\n\u001b[0;32m----> 3\u001b[0;31m \u001b[0mfname\u001b[0m\u001b[0;34m,\u001b[0m \u001b[0m_\u001b[0m \u001b[0;34m=\u001b[0m \u001b[0mdataset\u001b[0m\u001b[0;34m.\u001b[0m\u001b[0mdataset\u001b[0m\u001b[0;34m.\u001b[0m\u001b[0msamples\u001b[0m\u001b[0;34m[\u001b[0m\u001b[0mi\u001b[0m\u001b[0;34m]\u001b[0m\u001b[0;34m\u001b[0m\u001b[0;34m\u001b[0m\u001b[0m\n\u001b[0m\u001b[1;32m      4\u001b[0m \u001b[0mfname\u001b[0m \u001b[0;34m=\u001b[0m \u001b[0mfname\u001b[0m\u001b[0;34m.\u001b[0m\u001b[0msplit\u001b[0m\u001b[0;34m(\u001b[0m\u001b[0;34m\"/\"\u001b[0m\u001b[0;34m)\u001b[0m\u001b[0;34m[\u001b[0m\u001b[0;34m-\u001b[0m\u001b[0;36m1\u001b[0m\u001b[0;34m]\u001b[0m\u001b[0;34m\u001b[0m\u001b[0;34m\u001b[0m\u001b[0m\n\u001b[1;32m      5\u001b[0m \u001b[0mprint\u001b[0m\u001b[0;34m(\u001b[0m\u001b[0mfname\u001b[0m\u001b[0;34m)\u001b[0m\u001b[0;34m\u001b[0m\u001b[0;34m\u001b[0m\u001b[0m\n",
      "\u001b[0;31mAttributeError\u001b[0m: module 'utility.dataset' has no attribute 'dataset'"
     ]
    }
   ],
   "source": [
    "        inputs, targets = (b.to(device) for b in batch)\n",
    "        # print(f'target: {targets}')\n",
    "        fname, _ = dataset.dataset.samples[i]\n",
    "        fname = fname.split(\"/\")[-1]\n",
    "        print(fname)\n",
    "        print(inputs.shape)\n",
    "        hi = inputs.cpu()\n",
    "        tr = np.asarray(hi[0]).transpose((1,2,0))\n",
    "        print(tr.shape)\n",
    "        # imshow(np.asarray(hi[0]).transpose((1,2,0)))\n",
    "\n",
    "        img = read_image(base + fname)\n",
    "        # print(img.shape)\n",
    "        img  = get_transforms_img(img)\n",
    "        rl = np.asarray(img).transpose((1,2,0))\n",
    "        print(rl.shape)\n",
    "        # imshow(np.asarray(img).transpose((1,2,0)))\n",
    "\n",
    "        pan =np.hstack([tr, rl])\n",
    "        ax1.imshow(tr)\n",
    "        ax2.imshow(rl)\n",
    "        plt.show()\n",
    "        \n",
    "\n",
    "        predictions = model(inputs)\n",
    "        pp = int(torch.argmax(predictions,1))\n",
    "        # print(targets.shape, pp.shape, end='')\n",
    "        print(f'[i:{i}]\\t{fname.split(\"/\")[-1]},{int(pp):>3}', end='\\t')\n",
    "        print(f'[{(i+1)/12600*100: .2f}{i+1 :>7} / 12600]')\n",
    "        # loss = smooth_crossentropy(predictions, targets)\n",
    "        # correct = torch.argmax(predictions, 1) == targets\n",
    "        # print(torch.argmax(predictions, 1))\n",
    "        # log(model, loss.cpu(), correct.cpu())"
   ]
  },
  {
   "cell_type": "code",
   "execution_count": 13,
   "metadata": {},
   "outputs": [
    {
     "name": "stdout",
     "output_type": "stream",
     "text": [
      "torch.Size([3, 512, 384])\n"
     ]
    },
    {
     "data": {
      "text/plain": [
       "<matplotlib.image.AxesImage at 0x7f4ad50fe130>"
      ]
     },
     "execution_count": 13,
     "metadata": {},
     "output_type": "execute_result"
    },
    {
     "data": {
      "image/png": "[encoded data removed]",
      "text/plain": [
       "<Figure size 432x288 with 1 Axes>"
      ]
     },
     "metadata": {
      "needs_background": "light"
     },
     "output_type": "display_data"
    }
   ],
   "source": [
    "base = '/opt/ml/input/new_test/1/0001b62fb1057a1182db2c839de232dbef0d1e90.jpg'\n",
    "img = read_image(base)\n",
    "print(img.shape)\n",
    "img = get_transforms_img(img)\n",
    "imshow(np.asarray(img).transpose((1,2,0)))"
   ]
  }
 ],
 "metadata": {
  "kernelspec": {
   "display_name": "Python 3 (ipykernel)",
   "language": "python",
   "name": "python3"
  },
  "language_info": {
   "codemirror_mode": {
    "name": "ipython",
    "version": 3
   },
   "file_extension": ".py",
   "mimetype": "text/x-python",
   "name": "python",
   "nbconvert_exporter": "python",
   "pygments_lexer": "ipython3",
   "version": "3.8.5"
  }
 },
 "nbformat": 4,
 "nbformat_minor": 4
}
